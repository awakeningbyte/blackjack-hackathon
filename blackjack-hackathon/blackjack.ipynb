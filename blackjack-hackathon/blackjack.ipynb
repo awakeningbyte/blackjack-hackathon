{
 "cells": [
  {
   "cell_type": "markdown",
   "metadata": {},
   "source": [
    "# Intro\n",
    "\n",
    "This coding competition is modified from Kaggle's awesome [Microchallenges](https://www.kaggle.com/learn/microchallenges). Participants are required to implement a gaming strategy and upload it to the judging server. All uploaded strageties will be executed together. A winner will be picked based on the performance of his/her strategy. \n"
   ]
  },
  {
   "cell_type": "markdown",
   "metadata": {},
   "source": [
    "# Run\n",
    "\n",
    "```\n",
    "    docker build -t datomar/hackson-blackjack .\n",
    "    docker run --rm -p 8888:8888 datomar/hackson-blackjack\n",
    "```\n",
    "\n",
    "Then open a brower at http://localhost:8888, click `blackjack.ipynb`"
   ]
  },
  {
   "cell_type": "markdown",
   "metadata": {},
   "source": [
    "# Blackjack Rules\n",
    "\n",
    "Ready for a quick test of your logic and programming skills? \n",
    "\n",
    "In this challenge, you will write the logic for a blackjack playing program.  Our dealer will test your program by playing 50,000 hands of blackjack. You'll see how frequently your program won, and you can discuss how your approach stacks up against others in the challenge.\n",
    "\n",
    "![Blackjack](http://www.hightechgambling.com/sites/default/files/styles/large/public/casino/table_games/blackjack.jpg)\n",
    "\n",
    "We'll use a slightly simplified version of blackjack (aka twenty-one). In this version, there is one player (who you'll control) and a dealer. Play proceeds as follows:\n",
    "\n",
    "- The player is dealt two face-up cards. The dealer is dealt one face-up card.\n",
    "- The player may ask to be dealt another card ('hit') as many times as they wish. If the sum of their cards exceeds 21, they lose the round immediately.\n",
    "- The dealer then deals additional cards to himself until either:\n",
    "    - The sum of the dealer's cards exceeds 21, in which case the player wins the round, or\n",
    "    - The sum of the dealer's cards is greater than or equal to 17. If the player's total is greater than the dealer's, the player wins. Otherwise, the dealer wins (even in case of a tie).\n",
    "\n",
    "When calculating the sum of cards, Jack, Queen, and King count for 10. Aces can count as 1 or 11. (When referring to a player's \"total\" above, we mean the largest total that can be made without exceeding 21. So A+8 = 19, A+8+8 = 17.)\n"
   ]
  },
  {
   "cell_type": "code",
   "execution_count": 5,
   "metadata": {},
   "outputs": [],
   "source": [
    "### Don't change content in this cell\n",
    "import pandas as pd\n",
    "from tqdm import tqdm\n",
    "from game import *\n",
    "\n",
    "### strategy of NPC player 1 \n",
    "random_hit = \"\"\"\n",
    "def should_hit(player_total, dealer_card_val, player_aces):\n",
    "    import random\n",
    "    bet = random.randint(1, 10)\n",
    "    hit = (bet % 2 ==0)\n",
    "    return hit,bet\n",
    "\"\"\"\n",
    "\n",
    "### strategy of NPC player 2\n",
    "always_no = \"\"\"\n",
    "def should_hit(player_total, dealer_card_val, player_aces):\n",
    "    return False,1\n",
    "\"\"\""
   ]
  },
  {
   "cell_type": "markdown",
   "metadata": {},
   "source": [
    "\n",
    "# The Blackjack Player\n",
    "You'll write a function representing the player's decision-making strategy. It returns a tuple of bool & int\n",
    "The boolean value means decision of `hit` or `stay`. The int value must be within 1..10, it means how much you want to bet on this hand. The above cell contains 2 strategies in string format. You can use them as example"
   ]
  },
  {
   "cell_type": "code",
   "execution_count": 6,
   "metadata": {},
   "outputs": [],
   "source": [
    "#implement your stragegy here\n",
    "def should_hit(player_total, dealer_card_val, player_aces):\n",
    "    return False, 11"
   ]
  },
  {
   "cell_type": "markdown",
   "metadata": {},
   "source": [
    "# Try you strategy out\n",
    "You can test your strategy against the 2 NPC players."
   ]
  },
  {
   "cell_type": "code",
   "execution_count": 7,
   "metadata": {},
   "outputs": [
    {
     "name": "stdout",
     "output_type": "stream",
     "text": [
      "Dealer starts with K\n",
      "\n",
      "You: starts with 3 and 5 (total = 8)\n",
      "You stays, bet 10\n",
      "\n",
      "\n",
      "NPC1: starts with Q and K (total = 20)\n",
      "NPC1 hits, bet 6, receives 3. (total = 23)\n",
      "\n",
      "\n",
      "NPC2: starts with A and Q (total = 21)\n",
      "NPC2 stays, bet 1\n",
      "\n",
      "\n",
      "\n",
      "__Dealer__play\n",
      "Dealer hits and receives J. (total = 20)\n",
      "\n",
      "\n",
      "******* Game Result ********\n",
      "\n",
      "\n",
      "* 23 busts, NPC1 lost,  $ -6\n",
      "* 8 =< 20, You lost,  $ -1\n",
      "* 21 > 20, NPC2 won,  $ +1\n"
     ]
    }
   ],
   "source": [
    "simulation = simulate(True)\n",
    "simulation.add(1,\"You\", strategy=should_hit)\n",
    "simulation.add(2,\"NPC1\", strategy=random_hit)\n",
    "simulation.add(3,\"NPC2\", strategy=always_no)\n",
    "\n",
    "result = simulation.one_game()\n",
    "\n",
    "print(\"\\n\\n******* Game Result ********\\n\\n\")\n",
    "for p in result:\n",
    "    name,_,_, m = result[p]\n",
    "    print(\"*\", m)"
   ]
  },
  {
   "cell_type": "markdown",
   "metadata": {},
   "source": [
    "# Compete with NPC\n",
    "\n",
    "Once you fell satisfied with your stategy, upload the `should_hit` function to the judge backend. Winnier will be chosen with the player with higest positive bankroll. If all player loss money, then the higest winning rate is the winnipeg.\n",
    "\n",
    "The following is how the judging function works."
   ]
  },
  {
   "cell_type": "code",
   "execution_count": 8,
   "metadata": {},
   "outputs": [
    {
     "name": "stderr",
     "output_type": "stream",
     "text": [
      "100%|██████████| 50000/50000 [00:07<00:00, 6504.78games/s]"
     ]
    },
    {
     "name": "stdout",
     "output_type": "stream",
     "text": [
      "   Name     Wins  Bankroll\n",
      "0   You  0.38078   -119220\n",
      "1  NPC1  0.27934   -173783\n",
      "2  NPC2  0.37918    -12082\n",
      "\n",
      "\n",
      "The winner is NPC2\n"
     ]
    },
    {
     "name": "stderr",
     "output_type": "stream",
     "text": [
      "\n"
     ]
    }
   ],
   "source": [
    "simulation = simulate(False)\n",
    "simulation.add(1,\"You\", should_hit)\n",
    "simulation.add(2,\"NPC1\", random_hit)\n",
    "simulation.add(3,\"NPC2\", always_no)\n",
    "\n",
    "data = simulation.simulate(n_games=50000)\n",
    "\n",
    "df = pd.DataFrame(data, columns =['Name', 'Wins', 'Bankroll']) \n",
    "  \n",
    "print(df)\n",
    "\n",
    "winner = df.loc[df['Bankroll'].idxmax()]\n",
    "print(f\"\\n\\nThe winner is {winner['Name']}\")"
   ]
  },
  {
   "cell_type": "code",
   "execution_count": null,
   "metadata": {},
   "outputs": [],
   "source": []
  }
 ],
 "metadata": {
  "kernelspec": {
   "display_name": "Python 3",
   "language": "python",
   "name": "python3"
  },
  "language_info": {
   "codemirror_mode": {
    "name": "ipython",
    "version": 3
   },
   "file_extension": ".py",
   "mimetype": "text/x-python",
   "name": "python",
   "nbconvert_exporter": "python",
   "pygments_lexer": "ipython3",
   "version": "3.8.5"
  }
 },
 "nbformat": 4,
 "nbformat_minor": 4
}
