{
 "cells": [
  {
   "cell_type": "markdown",
   "metadata": {},
   "source": [
    "# Intro\n",
    "\n",
    "Ready for a quick test of your logic and programming skills?\n",
    "\n",
    "In today's hackson-challenge, you will write the logic for a blackjack playing program.  Our dealer will test your program by playing 50,000 hands of blackjack. You'll see how frequently your program won, and you can discuss how your approach stacks up against others in the challenge.\n",
    "\n",
    "![Blackjack](http://www.hightechgambling.com/sites/default/files/styles/large/public/casino/table_games/blackjack.jpg)"
   ]
  },
  {
   "cell_type": "markdown",
   "metadata": {},
   "source": [
    "# Blackjack Rules\n",
    "\n",
    "We'll use a slightly simplified version of blackjack (aka twenty-one). In this version, there is one player (who you'll control) and a dealer. Play proceeds as follows:\n",
    "\n",
    "- The player is dealt two face-up cards. The dealer is dealt one face-up card.\n",
    "- The player may ask to be dealt another card ('hit') as many times as they wish. If the sum of their cards exceeds 21, they lose the round immediately.\n",
    "- The dealer then deals additional cards to himself until either:\n",
    "    - The sum of the dealer's cards exceeds 21, in which case the player wins the round, or\n",
    "    - The sum of the dealer's cards is greater than or equal to 17. If the player's total is greater than the dealer's, the player wins. Otherwise, the dealer wins (even in case of a tie).\n",
    "\n",
    "When calculating the sum of cards, Jack, Queen, and King count for 10. Aces can count as 1 or 11. (When referring to a player's \"total\" above, we mean the largest total that can be made without exceeding 21. So A+8 = 19, A+8+8 = 17.)\n"
   ]
  },
  {
   "cell_type": "code",
   "execution_count": 2,
   "metadata": {},
   "outputs": [
    {
     "ename": "ModuleNotFoundError",
     "evalue": "No module named 'learntools.core'",
     "output_type": "error",
     "traceback": [
      "\u001b[0;31m----------------------------------------------------------------------\u001b[0m",
      "\u001b[0;31mModuleNotFoundError\u001b[0m                  Traceback (most recent call last)",
      "\u001b[0;32m<ipython-input-2-bbca424c0185>\u001b[0m in \u001b[0;36m<module>\u001b[0;34m\u001b[0m\n\u001b[1;32m      1\u001b[0m \u001b[0;31m### Don't change content in this cell\u001b[0m\u001b[0;34m\u001b[0m\u001b[0;34m\u001b[0m\u001b[0;34m\u001b[0m\u001b[0m\n\u001b[1;32m      2\u001b[0m \u001b[0;32mimport\u001b[0m \u001b[0mpandas\u001b[0m \u001b[0;32mas\u001b[0m \u001b[0mpd\u001b[0m\u001b[0;34m\u001b[0m\u001b[0;34m\u001b[0m\u001b[0m\n\u001b[0;32m----> 3\u001b[0;31m \u001b[0;32mfrom\u001b[0m \u001b[0mgame\u001b[0m \u001b[0;32mimport\u001b[0m \u001b[0;34m*\u001b[0m\u001b[0;34m\u001b[0m\u001b[0;34m\u001b[0m\u001b[0m\n\u001b[0m\u001b[1;32m      4\u001b[0m \u001b[0;34m\u001b[0m\u001b[0m\n\u001b[1;32m      5\u001b[0m \u001b[0;31m### strategy of NPC player 1\u001b[0m\u001b[0;34m\u001b[0m\u001b[0;34m\u001b[0m\u001b[0;34m\u001b[0m\u001b[0m\n",
      "\u001b[0;32m~/workspace/playground/hackson/blackjack-hackson/game.py\u001b[0m in \u001b[0;36m<module>\u001b[0;34m\u001b[0m\n\u001b[1;32m      6\u001b[0m \u001b[0mparent_dir\u001b[0m \u001b[0;34m=\u001b[0m \u001b[0mos\u001b[0m\u001b[0;34m.\u001b[0m\u001b[0mpath\u001b[0m\u001b[0;34m.\u001b[0m\u001b[0mdirname\u001b[0m\u001b[0;34m(\u001b[0m\u001b[0mcurrent_dir\u001b[0m\u001b[0;34m)\u001b[0m\u001b[0;34m\u001b[0m\u001b[0;34m\u001b[0m\u001b[0m\n\u001b[1;32m      7\u001b[0m \u001b[0msys\u001b[0m\u001b[0;34m.\u001b[0m\u001b[0mpath\u001b[0m\u001b[0;34m.\u001b[0m\u001b[0minsert\u001b[0m\u001b[0;34m(\u001b[0m\u001b[0;36m0\u001b[0m\u001b[0;34m,\u001b[0m \u001b[0mparent_dir\u001b[0m\u001b[0;34m)\u001b[0m\u001b[0;34m\u001b[0m\u001b[0;34m\u001b[0m\u001b[0m\n\u001b[0;32m----> 8\u001b[0;31m \u001b[0;32mfrom\u001b[0m \u001b[0mlearntools\u001b[0m\u001b[0;34m.\u001b[0m\u001b[0mcore\u001b[0m \u001b[0;32mimport\u001b[0m \u001b[0mbinder\u001b[0m\u001b[0;34m;\u001b[0m \u001b[0mbinder\u001b[0m\u001b[0;34m.\u001b[0m\u001b[0mbind\u001b[0m\u001b[0;34m(\u001b[0m\u001b[0mglobals\u001b[0m\u001b[0;34m(\u001b[0m\u001b[0;34m)\u001b[0m\u001b[0;34m)\u001b[0m\u001b[0;34m\u001b[0m\u001b[0;34m\u001b[0m\u001b[0m\n\u001b[0m\u001b[1;32m      9\u001b[0m \u001b[0;32mfrom\u001b[0m \u001b[0mlearntools\u001b[0m\u001b[0;34m.\u001b[0m\u001b[0mpython\u001b[0m\u001b[0;34m.\u001b[0m\u001b[0mblackjack\u001b[0m \u001b[0;32mimport\u001b[0m \u001b[0mBlackJack\u001b[0m\u001b[0;34m\u001b[0m\u001b[0;34m\u001b[0m\u001b[0m\n\u001b[1;32m     10\u001b[0m \u001b[0;34m\u001b[0m\u001b[0m\n",
      "\u001b[0;31mModuleNotFoundError\u001b[0m: No module named 'learntools.core'"
     ]
    }
   ],
   "source": [
    "### Don't change content in this cell\n",
    "import pandas as pd\n",
    "from game import *\n",
    "\n",
    "### strategy of NPC player 1 \n",
    "random_hit = \"\"\"\n",
    "def should_hit(player_total, dealer_card_val, player_aces):\n",
    "    import random\n",
    "    bet = random.randint(1, 10)\n",
    "    hit = (bet % 2 ==0)\n",
    "    return hit,bet\n",
    "\"\"\"\n",
    "\n",
    "### strategy of NPC player 2\n",
    "always_no = \"\"\"\n",
    "def should_hit(player_total, dealer_card_val, player_aces):\n",
    "    return False,1\n",
    "\"\"\""
   ]
  },
  {
   "cell_type": "markdown",
   "metadata": {},
   "source": [
    "\n",
    "# The Blackjack Player\n",
    "You'll write a function representing the player's decision-making strategy. It returns a tuple of bool & int\n",
    "The boolean value means decision of `hit` or `stay`. The int value must be within 1..10, it means how much you want to bet on this hand. The above cell contains 2 strategies in string format. You can use them as example"
   ]
  },
  {
   "cell_type": "code",
   "execution_count": 2,
   "metadata": {},
   "outputs": [],
   "source": [
    "#implement your stragegy here\n",
    "def should_hit(player_total, dealer_card_val, player_aces):\n",
    "    return False, 11"
   ]
  },
  {
   "cell_type": "markdown",
   "metadata": {},
   "source": [
    "# Try it out\n",
    "You can test your strategy against the 2 NPC players."
   ]
  },
  {
   "cell_type": "code",
   "execution_count": 3,
   "metadata": {},
   "outputs": [
    {
     "name": "stdout",
     "output_type": "stream",
     "text": [
      "Dealer starts with A\n",
      "\n",
      "You: starts with 2 and Q (total = 12)\n",
      "You stays, bet 10\n",
      "\n",
      "\n",
      "NPC1: starts with 10 and J (total = 20)\n",
      "NPC1 hits, bet 2, receives 8. (total = 28)\n",
      "\n",
      "\n",
      "NPC2: starts with 7 and 7 (total = 14)\n",
      "NPC2 stays, bet 1\n",
      "\n",
      "\n",
      "\n",
      "__Dealer__play\n",
      "Dealer hits and receives 4. (total = 15)\n",
      "Dealer hits and receives 9. (total = 14)\n",
      "Dealer hits and receives 7. (total = 21)\n",
      "\n",
      "\n",
      "******* Game Result ********\n",
      "\n",
      "\n",
      "* 28 busts, NPC1 lost,  $ -2\n",
      "* 12 =< 21, You lost,  $ -1\n",
      "* 14 =< 21, NPC2 lost,  $ -1\n"
     ]
    }
   ],
   "source": [
    "simulation = simulate(True)\n",
    "simulation.add(1,\"You\", strategy=should_hit)\n",
    "simulation.add(2,\"NPC1\", strategy=random_hit)\n",
    "simulation.add(3,\"NPC2\", strategy=always_no)\n",
    "\n",
    "result = simulation.one_game()\n",
    "\n",
    "print(\"\\n\\n******* Game Result ********\\n\\n\")\n",
    "for p in result:\n",
    "    name,_,_, m = result[p]\n",
    "    print(\"*\", m)"
   ]
  },
  {
   "cell_type": "markdown",
   "metadata": {},
   "source": [
    "# Judge\n",
    "\n",
    "Once you fell satisfied with your stategy, upload the `should_hit` function to the judge backend. Winnier will be chosen with the player with higest positive bankroll. If all player loss money, then the higest winning rate is the winnipeg.\n",
    "\n",
    "The following is how the judging function works."
   ]
  },
  {
   "cell_type": "code",
   "execution_count": 10,
   "metadata": {},
   "outputs": [
    {
     "name": "stdout",
     "output_type": "stream",
     "text": [
      "   Name     Wins  Bankroll\n",
      "0  NPC1  0.28074   -171400\n",
      "1   You  0.38164   -118360\n",
      "2  NPC2  0.38328    -11672\n",
      "\n",
      "\n",
      "The winner is NPC2\n"
     ]
    }
   ],
   "source": [
    "simulation = simulate(False)\n",
    "simulation.add(1,\"You\", should_hit)\n",
    "simulation.add(2,\"NPC1\", random_hit)\n",
    "simulation.add(3,\"NPC2\", always_no)\n",
    "\n",
    "data = simulation.simulate(n_games=50000)\n",
    "\n",
    "df = pd.DataFrame(data, columns =['Name', 'Wins', 'Bankroll']) \n",
    "  \n",
    "print(df)\n",
    "\n",
    "winner = df.loc[df['Bankroll'].idxmax()]\n",
    "print(f\"\\n\\nThe winner is {winner['Name']}\")"
   ]
  },
  {
   "cell_type": "code",
   "execution_count": null,
   "metadata": {},
   "outputs": [],
   "source": []
  }
 ],
 "metadata": {
  "kernelspec": {
   "display_name": "Python 3",
   "language": "python",
   "name": "python3"
  },
  "language_info": {
   "codemirror_mode": {
    "name": "ipython",
    "version": 3
   },
   "file_extension": ".py",
   "mimetype": "text/x-python",
   "name": "python",
   "nbconvert_exporter": "python",
   "pygments_lexer": "ipython3",
   "version": "3.8.3"
  }
 },
 "nbformat": 4,
 "nbformat_minor": 4
}
